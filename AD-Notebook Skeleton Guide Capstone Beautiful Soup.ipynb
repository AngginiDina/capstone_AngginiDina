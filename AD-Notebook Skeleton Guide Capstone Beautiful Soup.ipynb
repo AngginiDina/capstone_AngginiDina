{
 "cells": [
  {
   "cell_type": "markdown",
   "metadata": {},
   "source": [
    "#### catatan link dari mas Handoyo\n",
    "- https://github.com/t3981-h/BeautifulSoup-Capstone\n",
    "\n",
    "- https://github.com/t3981-h/Webscrapping-with-BeautifulSoup/blob/master/Webscrapping%20using%20BeautifulSoup.ipynb\n",
    "\n",
    "- https://github.com/t3981-h/Webscrapping-with-BeautifulSoup"
   ]
  },
  {
   "cell_type": "markdown",
   "metadata": {},
   "source": [
    "#### link tugas \n",
    "- https://www.exchange-rates.org/history/IDR/USD/T"
   ]
  },
  {
   "cell_type": "markdown",
   "metadata": {},
   "source": [
    "# Capstone Webscrapping using BeautifulSoup\n",
    "\n",
    "This notebook contains guidances & tasks on the data processing for the application\n",
    "\n",
    "(Please insert the background here )\n",
    "\n",
    "At this module we will learn on how do simple web scrapping using beautiful soup. Web scrapping is one of a method that we can use to colleting the data from internet. At this particular module, we will try to scrap from https://www.exchange-rates.org/history/IDR/USD/Tn. To do this we will only use a couple default library from python and BeautifulSoup.\n",
    "\n",
    "\n",
    "\n",
    "\n",
    "## Requesting the Data and Creating a BeautifulSoup\n",
    "\n",
    "Let's begin with requesting the web from the site with `get` method."
   ]
  },
  {
   "cell_type": "code",
   "execution_count": 24,
   "metadata": {
    "ExecuteTime": {
     "end_time": "2020-01-13T05:12:23.275508Z",
     "start_time": "2020-01-13T05:12:20.009898Z"
    }
   },
   "outputs": [],
   "source": [
    "import requests\n",
    "\n",
    "url_get = requests.get('https://www.exchange-rates.org/history/IDR/USD/T')"
   ]
  },
  {
   "cell_type": "markdown",
   "metadata": {},
   "source": [
    "To visualize what exactly you get from the `request.get`, we can use .content so ee what we exactly get, in here i slice it so it won't make our screen full of the html we get from the page. You can delete the slicing if you want to see what we fully get."
   ]
  },
  {
   "cell_type": "code",
   "execution_count": 25,
   "metadata": {
    "ExecuteTime": {
     "end_time": "2020-01-13T05:12:23.290648Z",
     "start_time": "2020-01-13T05:12:23.277650Z"
    }
   },
   "outputs": [
    {
     "data": {
      "text/plain": [
       "b'\\n<!DOCTYPE html>\\r\\n<!--[if lt IE 9]>\\r\\n    <html class=\"no-js ie8 oldie\" lang=\\'en\\' xml:lang=\\'en\\'>\\r\\n<![endif]-->\\r\\n<!--[if gt IE 8]><!--> <html class=\"no-js\" lang=\\'en\\' xml:lang=\\'en\\'> <!--<![endif]-->\\r\\n<head><title>Indonesian Rupiah Exchange Rate - US Dollar - Historical Exchange Rates</title>\\n<meta http-equiv=\"X-UA-Compatible\" content=\"IE=edge\">\\n<meta content=\"C#\" name=\"CODE_LANGUAGE\" />\\n<meta content=\"JavaScript\" name=\"vs_defaultClientScript\" />\\n<meta content=\"http://schemas.microsoft.com/intellisense/ie5\" name=\"vs_targetSchema\" />\\n<meta name=\"viewport\" content=\"width=device-width, initial-scale=1, maximum-scale=5\">\\n<meta http-equiv=\"Content-Type\" content=\"text/html; charset=utf-8\" />\\n\\n<meta name=\"mapping\" content=\"AP\" />\\n<base href=\"https://www.exchange-rates.org/\" />\\n<link rel=\"dns-prefetch\" href=\"https://ajax.googleapis.com/\" />\\r\\n<link rel=\"dns-prefetch\" href=\"https://www.go'"
      ]
     },
     "execution_count": 25,
     "metadata": {},
     "output_type": "execute_result"
    }
   ],
   "source": [
    "url_get.content[1:888]"
   ]
  },
  {
   "cell_type": "markdown",
   "metadata": {},
   "source": [
    "As we can see we get a very unstructured and complex html, which actually contains the codes needed to show the webpages on your web browser. But we as human still confused what and where we can use that piece of code, so here where we use the beautifulsoup. Beautiful soup class will result a beautifulsoup object. Beautiful Soup transforms a complex HTML document into a complex tree of Python objects. \n",
    "\n",
    "Let's make Beautiful soup object and feel free to explore the object here."
   ]
  },
  {
   "cell_type": "code",
   "execution_count": 26,
   "metadata": {
    "ExecuteTime": {
     "end_time": "2020-01-13T05:12:23.808122Z",
     "start_time": "2020-01-13T05:12:23.292610Z"
    }
   },
   "outputs": [
    {
     "name": "stdout",
     "output_type": "stream",
     "text": [
      "<class 'bs4.BeautifulSoup'>\n"
     ]
    }
   ],
   "source": [
    "from bs4 import BeautifulSoup \n",
    "\n",
    "soup = BeautifulSoup(url_get.content,\"html.parser\")\n",
    "print(type(soup))"
   ]
  },
  {
   "cell_type": "code",
   "execution_count": 27,
   "metadata": {},
   "outputs": [
    {
     "name": "stdout",
     "output_type": "stream",
     "text": [
      "<!DOCTYPE html>\n",
      "<!--[if lt IE 9]>\r\n",
      "    <html class=\"no-js ie8 oldie\" lang='en' xml:lang='en'>\r\n",
      "<![endif]-->\n",
      "<!--[if gt IE 8]><!-->\n",
      "<html class=\"no-js\" lang=\"en\" xml:lang=\"en\">\n",
      " <!--<![endif]-->\n",
      " <head>\n",
      "  <title>\n",
      "   Indonesian Rupiah Exchange Rate - US Dollar - Historical Exchange Rates\n",
      "  </title>\n",
      "  <meta content=\"IE=edge\" http-equiv=\"X-UA-Compatible\"/>\n",
      "  <meta content=\"C#\" name=\"CODE_LANGUAGE\">\n",
      "   <meta content=\"JavaScript\" name=\"vs_defaultClientScript\"/>\n",
      "   <meta content=\"http://schemas.microsoft.com/intellisense/ie5\" name=\"vs_targetSchema\"/>\n",
      "   <meta content=\"width=device-width, initial-scale=1, maximum-scale=5\" name=\"viewport\"/>\n",
      "   <meta content=\"text/html; charset=utf-8\" http-equiv=\"Content-Type\">\n",
      "    <meta content=\"AP\" name=\"mapping\"/>\n",
      "    <base href=\"https://www.exchange-rates.org/\"/>\n",
      "    <link href=\"https://ajax.googleapis.com/\" rel=\"dns-prefetch\"/>\n",
      "    <link href=\"https://www.google-analytics.com/\" rel=\"dns-prefetch\"/>\n",
      "    <link as=\"image\" href=\"https://dol8qrceshfrq.cloudfront.net/cache/2020-03-18-01-05-58/img/bgr-pattern.png\" rel=\"preload\" type=\"image/png\"/>\n",
      "    <link as=\"image\" href=\"https://dol8qrceshfrq.cloudfront.net/cache/2020-03-18-01-05-58/img/logo.svg\" rel=\"preload\" type=\"image/svg+xml\"/>\n",
      "    <link as=\"image\" href=\"https://dol8qrceshfrq.cloudfront.net/cache/2020-03-18-01-05-58/img/logo-footer.svg\" rel=\"preload\" type=\"image/svg+xml\"/>\n",
      "    <link href=\"https://www.exchange-rates.org/history/IDR/USD/T\" rel=\"canonical\">\n",
      "     <link href=\"https://dol8qrceshfrq.cloudfront.net/cache/2020-03-18-01-05-58/img/favicon.ico\" rel=\"shortcut icon\" type=\"image/x-icon\"/>\n",
      "     <link href=\"https://dol8qrceshfrq.cloudfront.net/cache/2020-03-18-01-05-58/img/favicon.ico\" rel=\"icon\" type=\"image/x-icon\"/>\n",
      "     <!--[if lt IE 9]>\n",
      "<![endif]-->\n",
      "     <style type=\"text/css\">\n",
      "      /* 00-bootstrap-cleaned.css */\r\n",
      "article,aside,details,figcaption,figure,footer,header,hgroup,main,nav,section,summary{display:block}a{background:0 0}a:active,a:hover{outline:0}b,strong{font-weight:700}h1{font-size:2em;margin:.67em 0}img{border:0}svg:not(:root){overflow:hidden}p{margin:0 0 10px}pre{display:block;padding:9.5px;margin:0 0 10px;font-size:13px;line-height:1.428571429;word-break:break-all;word-wrap:break-word;color:#333;background-color:#f5f5f5;border:1px solid #ccc;border-radius:4px}pre code{padding:0;font-size:inherit;color:inherit;white-space:pre-wrap;background-color:transparent;border-radius:0}button,input,optgroup,select,textarea{color:inherit;font:inherit;margin:0}button{overflow:visible}button,select{text-transform:none}button,html input[type=button],input[type=reset],input[type=submit]{-webkit-appearance:button;cursor:pointer}input{line-height:normal}table{border-collapse:collapse;border-spacing:0}td,th{padding:0}*{-webkit-box-sizing:border-box;-moz-box-sizing:border-box;box-sizing:border-box}:after,:before{-webkit-box-sizing:border-box;-moz-box-sizing:border-box;box-sizing:border-box}button,input,select,textarea{font-family:inherit;font-size:inherit;line-height:inherit}.sr-only{position:absolute;width:1px;height:1px;margin:-1px;padding:0;overflow:hidden;clip:rect(0,0,0,0);border:0}.sr-only-focusable:active,.sr-only-focusable:focus{position:static;width:auto;height:auto;margin:0;overflow:visible;clip:auto}.h1,.h2,.h3,.h4,.h5,.h6,h1,h2,h3,h4,h5,h6{font-family:inherit;font-weight:500;line-height:1.1;color:inherit}.h1 .small,.h1 small,.h2 .small,.h2 small,.h3 .small,.h3 small,.h4 .small,.h4 small,.h5 .small,.h5 small,.h6 .small,.h6 small,h1 .small,h1 small,h2 .small,h2 small,h3 .small,h3 small,h4 .small,h4 small,h5 .small,h5 small,h6 .small,h6 small{font-weight:400;line-height:1;color:#777}.h1,.h2,.h3,h1,h2,h3{margin-top:20px;margin-bottom:10px}.h1 .small,.h1 small,.h2 .small,.h2 small,.h3 .small,.h3 small,h1 .small,h1 small,h2 .small,h2 small,h3 .small,h3 small{font-size:65%}.h4,.h5,.h6,h4,h5,h6{margin-top:10px;margin-bottom:10px}.h1,h1{font-size:36px}.h2,h2{font-size:30px}.h3,h3{font-size:24px}.h4,h4{font-size:18px}.small,small{font-size:85%}.text-nowrap{white-space:nowrap}ol,ul{margin-top:0;margin-bottom:10px}dl{margin-top:0;margin-bottom:20px}dd,dt{line-height:1.428571429}dt{font-weight:700}dd{margin-left:0}table{background-color:transparent}th{text-align:left}.table{width:100%;max-width:100%;margin-bottom:20px}.table>tbody>tr>td,.table>tbody>tr>th,.table>tfoot>tr>td,.table>tfoot>tr>th,.table>thead>tr>td,.table>thead>tr>th{padding:8px;line-height:1.428571429;vertical-align:top;border-top:1px solid #ddd}@media (min-width:960px) and (max-width:1200px){.table.table-exchange>tbody>tr>td,.table.table-exchange>tbody>tr>th,.table.table-exchange>thead>tr>th{padding:8px 5px}}.table>thead>tr>th{vertical-align:bottom;border-bottom:2px solid #ddd}.table>caption+thead>tr:first-child>td,.table>caption+thead>tr:first-child>th,.table>colgroup+thead>tr:first-child>td,.table>colgroup+thead>tr:first-child>th,.table>thead:first-child>tr:first-child>td,.table>thead:first-child>tr:first-child>th{border-top:0}.table-striped>tbody>tr:nth-child(odd)>td,.table-striped>tbody>tr:nth-child(odd)>th{background-color:#f9f9f9}.table-responsive{width:100%;margin-bottom:15px;overflow-y:hidden;overflow-x:auto;-ms-overflow-style:-ms-autohiding-scrollbar;border:1px solid #ddd;-webkit-overflow-scrolling:touch}.table-responsive>.table{margin-bottom:0}.table-responsive>.table>tbody>tr>td,.table-responsive>.table>tbody>tr>th,.table-responsive>.table>tfoot>tr>td,.table-responsive>.table>tfoot>tr>th,.table-responsive>.table>thead>tr>td,.table-responsive>.table>thead>tr>th{white-space:nowrap}label{display:inline-block;max-width:100%;margin-bottom:5px;font-weight:700}input[type=search]{-webkit-box-sizing:border-box;-moz-box-sizing:border-box;box-sizing:border-box}input[type=range]{display:block;width:100%}.btn{display:inline-block;margin-bottom:0;font-weight:400;text-align:center;vertical-align:middle;cursor:pointer;background-image:none;border:1px solid transparent;white-space:nowrap;padding:6px 12px;font-size:14px;line-height:1.428571429;border-radius:4px;-webkit-user-select:none;-moz-user-select:none;-ms-user-select:none;user-select:none}.btn:focus,.btn:hover{color:#333;text-decoration:none}.collapse{display:none}.collapse.in{display:block;background:0 0}.breadcrumb{padding:8px 15px;margin-bottom:0;list-style:none;background-color:#f5f5f5;border-radius:4px}.breadcrumb>li{display:inline}.breadcrumb>li+li:before{content:\"/\";padding:0 5px!important;padding:0 6px!important;color:#ccc;display:inline-block}.breadcrumb>.active{color:#777}.panel{margin-bottom:20px;background-color:#fff;border:1px solid transparent;border-radius:4px;-webkit-box-shadow:0 1px 1px rgba(0,0,0,.05);box-shadow:0 1px 1px rgba(0,0,0,.05)}.panel-body{padding:15px}.panel-body:after,.panel-body:before{content:\" \";display:table}.panel-body:after{clear:both}.panel-heading{padding:10px 15px;border-bottom:1px solid transparent;border-top-right-radius:3px;border-top-left-radius:3px}.panel-title{margin-top:0;margin-bottom:0;font-size:16px;color:inherit}.panel-title>a{color:inherit}.panel-group{margin-bottom:20px}.panel-group .panel{margin-bottom:0;border-radius:4px}.panel-group .panel+.panel{margin-top:5px}.panel-group .panel-heading{border-bottom:0}.panel-group .panel-heading+.panel-collapse>.panel-body{border-top:1px solid #ddd}.panel-default{border-color:#ddd}.panel-default>.panel-heading{color:#333;background-color:#f5f5f5;border-color:#ddd}.panel-default>.panel-heading+.panel-collapse>.panel-body{border-top-color:#ddd}.pull-right{float:right!important}.pull-left{float:left!important}.hidden{display:none!important;visibility:hidden!important}@media (max-width:767px){.hidden-xs{display:none!important}}@media (min-width:768px) and (max-width:991px){.hidden-sm{display:none!important}}@media (min-width:992px) and (max-width:1199px){.hidden-md{display:none!important}}@media (min-width:1200px){.hidden-lg{display:none!important}}\r\n",
      "/* 01-utility.css */\r\n",
      ".nowrap{white-space:nowrap}.hide{display:none!important}.right{float:right!important}.left{float:left!important}.bottom-align{margin-top:25px}.padding-right-5{padding-right:5px}.padding-left-5{padding-left:5px}.padding-left-15{padding-left:15px}.padding-bottom-5{padding-bottom:5px}.spacer{padding-top:15px}.spacer05{padding-top:10px}.spacer15{padding-top:23px}.no-spacing-padding-border td{padding:0;margin:0}.no-spacing-padding-border{border-collapse:collapse}.text-wrap{white-space:normal!important}.text-right{text-align:right}.text-center-narrow-left{text-align:center!important}@media (max-width:769px){.text-narrow-screen-hidden{display:none}.text-narrow-screen-wrap{white-space:normal!important}.table-narrow-screen-height-limited{max-height:250px;overflow-y:auto}.text-center-narrow-left{text-align:left!important}}@media (min-width:769px){.text-narrow-screen-visible{display:none}}\r\n",
      "/* 05-responsive.css */\r\n",
      ".col-lg-1,.col-lg-10,.col-lg-11,.col-lg-12,.col-lg-2,.col-lg-3,.col-lg-4,.col-lg-5,.col-lg-6,.col-lg-7,.col-lg-8,.col-lg-9,.col-md-1,.col-md-10,.col-md-11,.col-md-12,.col-md-2,.col-md-3,.col-md-4,.col-md-5,.col-md-6,.col-md-7,.col-md-8,.col-md-9,.col-sm-1,.col-sm-10,.col-sm-11,.col-sm-12,.col-sm-2,.col-sm-3,.col-sm-4,.col-sm-5,.col-sm-6,.col-sm-7,.col-sm-8,.col-sm-9,.col-xs-1,.col-xs-10,.col-xs-11,.col-xs-12,.col-xs-2,.col-xs-3,.col-xs-4,.col-xs-5,.col-xs-6,.col-xs-7,.col-xs-8,.col-xs-9{position:relative;min-height:1px;padding-left:15px;padding-right:15px}@media (min-width:768px){.col-sm-1,.col-sm-10,.col-sm-11,.col-sm-12,.col-sm-15,.col-sm-2,.col-sm-25,.col-sm-3,.col-sm-4,.col-sm-5,.col-sm-6,.col-sm-7,.col-sm-8,.col-sm-9{float:left}.col-sm-2{width:16.6666666667%}.col-sm-4{width:33.3333333333%}.col-sm-5{width:41.6666666667%}.col-sm-8{width:66.6666666667%}}@media (min-width:992px){.col-md-1,.col-md-10,.col-md-11,.col-md-12,.col-md-2,.col-md-3,.col-md-4,.col-md-5,.col-md-6,.col-md-7,.col-md-8,.col-md-9{float:left}.col-md-4{width:33.3333333333%}.col-md-8{width:66.6666666667%}.col-md-12{width:100%}}\r\n",
      "/* 07-ads.css */\r\n",
      ".google-top{margin-top:10px}.google-top-20{margin-top:20px}.google-top-30{margin-top:30px}.google-top-40{margin-top:30px}.google-bottom-20{margin-bottom:20px}.google-bottom-30{margin-bottom:30px}.google-bottom-40{margin-bottom:30px}.google-wrap{text-align:center}.google-wrap.row{margin-left:0;margin-right:0}.google-placeholder{width:300px;height:50px;background-color:#999;text-transform:uppercase;color:#fff;font-size:20px;text-align:center;padding-top:10px;display:inline-block}.sidebar .google-placeholder{width:100%;height:250px}\r\n",
      "/* 10-base.css */\r\n",
      "html{background:url(https://dol8qrceshfrq.cloudfront.net/cache/2020-03-18-01-05-58/img/bgr-pattern.png) no-repeat 0 0;background-repeat:repeat;min-height:100%;position:relative;-ms-text-size-adjust:100%;-webkit-text-size-adjust:100%;font-size:10px;-webkit-tap-highlight-color:transparent}body{color:#7f7f7f;font-family:\"Roboto Condensed\",sans-serif-condensed,Helvetica,Arial,sans-serif;font-size:16px;line-height:1.42;font-weight:300;background-color:transparent}@media (min-width:960px){body{font-size:14px}}body{margin:0;margin-bottom:180px}pre{-moz-border-radius:0;-webkit-border-radius:0;border-radius:0;color:#7f7f7f;padding:20px!important}pre code{font-family:\"Courier New\",Courier,monospace}\r\n",
      "/* 15-controls.css */\r\n",
      "h1,h2,h3,h4,h5,h6{line-height:1}.h5,h5{font-size:14px}p{margin-bottom:30px}img{vertical-align:top}table{width:100%}strong{font-weight:700}.clearfix:after{content:\"\";display:table;clear:both}button:hover,input[type=submit]:hover,label{cursor:pointer}pre{-moz-border-radius:0;-webkit-border-radius:0;border-radius:0;color:#7f7f7f;padding:20px!important}pre code{font-family:\"Courier New\",Courier,monospace}textarea{margin:0;overflow:auto}input[type=radio]{vertical-align:text-bottom}input[type=checkbox]{vertical-align:bottom}button:focus,input:focus,textarea:focus{outline:0}button::-moz-focus-inner,input[type=submit]::-moz-focus-inner{border:0;padding:0}input[type=email],input[type=number],input[type=password],input[type=tel],input[type=text],input[type=url],textarea{width:100%;padding:15px;-webkit-box-sizing:border-box;-moz-box-sizing:border-box;box-sizing:border-box;border:1px solid #e0e0e0;background-color:#f5f5f5;-webkit-transition:all .3s ease;-o-transition:all .3s ease;transition:all .3s ease;font-size:16px;font-weight:400;height:50px;line-height:1}input[type=email],input[type=number],input[type=password],input[type=tel],input[type=text],input[type=url],textarea{padding:5px;height:30px}input[type=email]:focus,i\n"
     ]
    }
   ],
   "source": [
    "print(soup.prettify()[:12456])"
   ]
  },
  {
   "cell_type": "markdown",
   "metadata": {},
   "source": [
    "## Finding the right key to scrap the data & Extracting the right information"
   ]
  },
  {
   "cell_type": "markdown",
   "metadata": {},
   "source": [
    "Find the key and put the key into the `.find()` Put all the exploring the right key at this cell. (please change this markdown with your explanation)"
   ]
  },
  {
   "cell_type": "code",
   "execution_count": 28,
   "metadata": {
    "ExecuteTime": {
     "end_time": "2020-01-13T05:12:23.878904Z",
     "start_time": "2020-01-13T05:12:23.854974Z"
    },
    "scrolled": false
   },
   "outputs": [],
   "source": [
    "#table = soup.find(<div class=\"content container\">\n",
    "#  print(table.prettify()[1:500])"
   ]
  },
  {
   "cell_type": "code",
   "execution_count": 29,
   "metadata": {
    "ExecuteTime": {
     "end_time": "2020-01-13T05:12:23.878904Z",
     "start_time": "2020-01-13T05:12:23.854974Z"
    },
    "scrolled": true
   },
   "outputs": [
    {
     "name": "stdout",
     "output_type": "stream",
     "text": [
      "table class=\"table table-striped table-hover table-hover-solid-row table-simple history-data\">\n",
      " <tbody>\n",
      "  <tr>\n",
      "   <td>\n",
      "    11/27/2020\n",
      "   </td>\n",
      "   <td>\n",
      "    Friday\n",
      "   </td>\n",
      "   <td>\n",
      "    <a href=\"/Rate/USD/IDR/11-27-2020\">\n",
      "     14,078.12448\n",
      "    </a>\n",
      "    IDR\n",
      "   </td>\n",
      "   <td class=\"text-narrow-screen-hidden\">\n",
      "    <a href=\"/Rate/USD/IDR/11-27-2020\">\n",
      "     USD IDR rate for 11/27/2020\n",
      "    </a>\n",
      "   </td>\n",
      "  </tr>\n",
      "  <tr>\n",
      "   <td>\n",
      "    11/26/2020\n",
      "   </td>\n",
      "   <td>\n",
      "    Thursday\n",
      "   </td>\n",
      "   <td>\n",
      "    <a href=\"/Rate\n"
     ]
    }
   ],
   "source": [
    "table = soup.find('table', attrs={'class':'table table-striped table-hover table-hover-solid-row table-simple history-data'})\n",
    "print(table.prettify()[1:500])"
   ]
  },
  {
   "cell_type": "code",
   "execution_count": 30,
   "metadata": {},
   "outputs": [
    {
     "data": {
      "text/plain": [
       "[<tr><td>11/27/2020</td><td>Friday</td><td><a href=\"/Rate/USD/IDR/11-27-2020\">14,078.12448</a> IDR</td><td class=\"text-narrow-screen-hidden\"><a href=\"/Rate/USD/IDR/11-27-2020\">USD IDR rate for 11/27/2020</a></td></tr>,\n",
       " <tr><td>11/26/2020</td><td>Thursday</td><td><a href=\"/Rate/USD/IDR/11-26-2020\">14,090.70769</a> IDR</td><td class=\"text-narrow-screen-hidden\"><a href=\"/Rate/USD/IDR/11-26-2020\">USD IDR rate for 11/26/2020</a></td></tr>]"
      ]
     },
     "execution_count": 30,
     "metadata": {},
     "output_type": "execute_result"
    }
   ],
   "source": [
    "tr = table.find_all('tr')\n",
    "tr[:2]"
   ]
  },
  {
   "cell_type": "markdown",
   "metadata": {},
   "source": [
    "Do the scrapping process here (please change this markdown with your explanation)"
   ]
  },
  {
   "cell_type": "code",
   "execution_count": 31,
   "metadata": {
    "ExecuteTime": {
     "end_time": "2020-01-13T05:12:24.008256Z",
     "start_time": "2020-01-13T05:12:23.980358Z"
    }
   },
   "outputs": [
    {
     "data": {
      "text/plain": [
       "[('11/26/2020', '14,090.70769 IDR'),\n",
       " ('11/25/2020', '14,136.09929 IDR'),\n",
       " ('11/24/2020', '14,137.48161 IDR'),\n",
       " ('11/23/2020', '14,185.57119 IDR'),\n",
       " ('11/20/2020', '14,162.60519 IDR'),\n",
       " ('11/19/2020', '14,165.50144 IDR'),\n",
       " ('11/18/2020', '14,051.29503 IDR'),\n",
       " ('11/17/2020', '14,040.16051 IDR'),\n",
       " ('11/16/2020', '14,085.69501 IDR'),\n",
       " ('11/13/2020', '14,142.77143 IDR'),\n",
       " ('11/12/2020', '14,141.24303 IDR'),\n",
       " ('11/11/2020', '14,073.46024 IDR'),\n",
       " ('11/10/2020', '14,053.76135 IDR'),\n",
       " ('11/9/2020', '14,283.29667 IDR'),\n",
       " ('11/6/2020', '14,214.49744 IDR'),\n",
       " ('11/5/2020', '14,389.14027 IDR'),\n",
       " ('11/4/2020', '14,544.44634 IDR'),\n",
       " ('11/3/2020', '14,589.01774 IDR'),\n",
       " ('11/2/2020', '14,612.89990 IDR'),\n",
       " ('10/30/2020', '14,629.16216 IDR'),\n",
       " ('10/29/2020', '14,701.62361 IDR'),\n",
       " ('10/28/2020', '14,701.92586 IDR'),\n",
       " ('10/27/2020', '14,649.78960 IDR'),\n",
       " ('10/26/2020', '14,652.88010 IDR'),\n",
       " ('10/23/2020', '14,655.04157 IDR'),\n",
       " ('10/22/2020', '14,647.90877 IDR'),\n",
       " ('10/21/2020', '14,641.61060 IDR'),\n",
       " ('10/20/2020', '14,555.88071 IDR'),\n",
       " ('10/19/2020', '14,705.13256 IDR'),\n",
       " ('10/16/2020', '14,688.43616 IDR'),\n",
       " ('10/15/2020', '14,667.95340 IDR'),\n",
       " ('10/14/2020', '14,696.21912 IDR'),\n",
       " ('10/13/2020', '14,687.35100 IDR'),\n",
       " ('10/12/2020', '14,677.85296 IDR'),\n",
       " ('10/9/2020', '14,679.27910 IDR'),\n",
       " ('10/8/2020', '14,692.93025 IDR'),\n",
       " ('10/7/2020', '14,705.58246 IDR'),\n",
       " ('10/6/2020', '14,857.67854 IDR'),\n",
       " ('10/5/2020', '14,797.90178 IDR'),\n",
       " ('10/2/2020', '14,852.30483 IDR'),\n",
       " ('10/1/2020', '14,822.66605 IDR'),\n",
       " ('9/30/2020', '14,867.44686 IDR'),\n",
       " ('9/29/2020', '14,880.93210 IDR'),\n",
       " ('9/28/2020', '14,892.32194 IDR'),\n",
       " ('9/27/2020', '14,859.98349 IDR'),\n",
       " ('9/25/2020', '14,855.63943 IDR'),\n",
       " ('9/24/2020', '14,888.78607 IDR'),\n",
       " ('9/23/2020', '14,825.54899 IDR'),\n",
       " ('9/22/2020', '14,751.85786 IDR'),\n",
       " ('9/21/2020', '14,701.43420 IDR'),\n",
       " ('9/20/2020', '14,728.84529 IDR'),\n",
       " ('9/18/2020', '14,730.71792 IDR'),\n",
       " ('9/17/2020', '14,829.41738 IDR'),\n",
       " ('9/16/2020', '14,807.88761 IDR'),\n",
       " ('9/15/2020', '14,843.44670 IDR'),\n",
       " ('9/14/2020', '14,864.65988 IDR'),\n",
       " ('9/13/2020', '14,876.45021 IDR'),\n",
       " ('9/11/2020', '14,865.27553 IDR'),\n",
       " ('9/10/2020', '14,871.58664 IDR'),\n",
       " ('9/9/2020', '14,783.50009 IDR'),\n",
       " ('9/8/2020', '14,839.54267 IDR'),\n",
       " ('9/7/2020', '14,743.92989 IDR'),\n",
       " ('9/6/2020', '14,754.95155 IDR'),\n",
       " ('9/4/2020', '14,755.44144 IDR'),\n",
       " ('9/3/2020', '14,725.75623 IDR'),\n",
       " ('9/2/2020', '14,752.83593 IDR'),\n",
       " ('9/1/2020', '14,657.30327 IDR'),\n",
       " ('8/31/2020', '14,538.95869 IDR'),\n",
       " ('8/30/2020', '14,620.74081 IDR'),\n",
       " ('8/28/2020', '14,624.63146 IDR'),\n",
       " ('8/27/2020', '14,641.58320 IDR'),\n",
       " ('8/26/2020', '14,650.54899 IDR'),\n",
       " ('8/25/2020', '14,634.54337 IDR'),\n",
       " ('8/24/2020', '14,723.44674 IDR'),\n",
       " ('8/23/2020', '14,777.76475 IDR'),\n",
       " ('8/21/2020', '14,779.64056 IDR'),\n",
       " ('8/20/2020', '14,744.53672 IDR'),\n",
       " ('8/19/2020', '14,892.13287 IDR'),\n",
       " ('8/18/2020', '14,840.94794 IDR'),\n",
       " ('8/17/2020', '14,745.02603 IDR'),\n",
       " ('8/16/2020', '14,752.59007 IDR'),\n",
       " ('8/14/2020', '14,755.08179 IDR'),\n",
       " ('8/13/2020', '14,730.67678 IDR'),\n",
       " ('8/12/2020', '14,746.93479 IDR'),\n",
       " ('8/11/2020', '14,683.96263 IDR'),\n",
       " ('8/10/2020', '14,635.89132 IDR'),\n",
       " ('8/9/2020', '14,668.96550 IDR'),\n",
       " ('8/7/2020', '14,606.06472 IDR'),\n",
       " ('8/6/2020', '14,572.05634 IDR'),\n",
       " ('8/5/2020', '14,510.27288 IDR'),\n",
       " ('8/4/2020', '14,535.77574 IDR'),\n",
       " ('8/3/2020', '14,578.90531 IDR'),\n",
       " ('8/2/2020', '14,636.91361 IDR'),\n",
       " ('7/31/2020', '14,640.92152 IDR'),\n",
       " ('7/30/2020', '14,552.65469 IDR'),\n",
       " ('7/29/2020', '14,500.86496 IDR'),\n",
       " ('7/28/2020', '14,572.13548 IDR'),\n",
       " ('7/27/2020', '14,505.01200 IDR'),\n",
       " ('7/26/2020', '14,578.95006 IDR'),\n",
       " ('7/24/2020', '14,568.35458 IDR'),\n",
       " ('7/23/2020', '14,605.50142 IDR'),\n",
       " ('7/22/2020', '14,651.65404 IDR'),\n",
       " ('7/21/2020', '14,679.86959 IDR'),\n",
       " ('7/20/2020', '14,773.77977 IDR'),\n",
       " ('7/17/2020', '14,690.05172 IDR'),\n",
       " ('7/16/2020', '14,564.60810 IDR'),\n",
       " ('7/15/2020', '14,589.26616 IDR'),\n",
       " ('7/14/2020', '14,417.89081 IDR'),\n",
       " ('7/13/2020', '14,390.84796 IDR'),\n",
       " ('7/12/2020', '14,420.01800 IDR'),\n",
       " ('7/10/2020', '14,365.25218 IDR'),\n",
       " ('7/9/2020', '14,343.31797 IDR'),\n",
       " ('7/8/2020', '14,378.37552 IDR'),\n",
       " ('7/7/2020', '14,445.31657 IDR'),\n",
       " ('7/6/2020', '14,289.25101 IDR'),\n",
       " ('7/5/2020', '14,498.63510 IDR'),\n",
       " ('7/3/2020', '14,488.65681 IDR'),\n",
       " ('7/2/2020', '14,378.36972 IDR'),\n",
       " ('7/1/2020', '14,256.13040 IDR'),\n",
       " ('6/30/2020', '14,296.90560 IDR'),\n",
       " ('6/29/2020', '14,183.53912 IDR'),\n",
       " ('6/28/2020', '14,185.08225 IDR'),\n",
       " ('6/26/2020', '14,190.21303 IDR'),\n",
       " ('6/25/2020', '14,130.57047 IDR'),\n",
       " ('6/24/2020', '14,143.17320 IDR'),\n",
       " ('6/23/2020', '14,148.27391 IDR'),\n",
       " ('6/22/2020', '14,136.05128 IDR'),\n",
       " ('6/21/2020', '14,068.55627 IDR'),\n",
       " ('6/19/2020', '14,077.63950 IDR'),\n",
       " ('6/18/2020', '14,095.36729 IDR'),\n",
       " ('6/17/2020', '14,120.02241 IDR'),\n",
       " ('6/16/2020', '14,046.73959 IDR'),\n",
       " ('6/15/2020', '14,021.62200 IDR'),\n",
       " ('6/14/2020', '14,145.23543 IDR'),\n",
       " ('6/12/2020', '14,121.55442 IDR'),\n",
       " ('6/11/2020', '13,966.85142 IDR'),\n",
       " ('6/10/2020', '13,976.91611 IDR'),\n",
       " ('6/9/2020', '13,870.75718 IDR'),\n",
       " ('6/8/2020', '13,867.95377 IDR'),\n",
       " ('6/7/2020', '13,989.39489 IDR'),\n",
       " ('6/5/2020', '14,305.96407 IDR'),\n",
       " ('6/4/2020', '14,113.82802 IDR'),\n",
       " ('6/3/2020', '14,060.78946 IDR'),\n",
       " ('6/2/2020', '14,382.27395 IDR'),\n",
       " ('6/1/2020', '14,586.73900 IDR'),\n",
       " ('5/31/2020', '14,664.14584 IDR')]"
      ]
     },
     "execution_count": 31,
     "metadata": {},
     "output_type": "execute_result"
    }
   ],
   "source": [
    "temp = [] #initiating a tuple\n",
    "\n",
    "for i in range(1, len(tr)):\n",
    "    row = table.find_all('tr')[i]\n",
    "    \n",
    "    #get tanggal\n",
    "    tgl = row.find_all('td')[0].text\n",
    "    tgl = tgl.strip() #for removing the excess whitespace\n",
    "    \n",
    "    #get harga harian\n",
    "    hargaharian = row.find_all('td')[2].text\n",
    "    hargaharian = hargaharian.strip() #for removing the excess whitespace\n",
    "    \n",
    "    temp.append((tgl,hargaharian)) \n",
    "    \n",
    "temp"
   ]
  },
  {
   "cell_type": "code",
   "execution_count": 32,
   "metadata": {},
   "outputs": [
    {
     "data": {
      "text/plain": [
       "[('5/31/2020', '14,664.14584 IDR'),\n",
       " ('6/1/2020', '14,586.73900 IDR'),\n",
       " ('6/2/2020', '14,382.27395 IDR'),\n",
       " ('6/3/2020', '14,060.78946 IDR'),\n",
       " ('6/4/2020', '14,113.82802 IDR'),\n",
       " ('6/5/2020', '14,305.96407 IDR'),\n",
       " ('6/7/2020', '13,989.39489 IDR'),\n",
       " ('6/8/2020', '13,867.95377 IDR'),\n",
       " ('6/9/2020', '13,870.75718 IDR'),\n",
       " ('6/10/2020', '13,976.91611 IDR'),\n",
       " ('6/11/2020', '13,966.85142 IDR'),\n",
       " ('6/12/2020', '14,121.55442 IDR'),\n",
       " ('6/14/2020', '14,145.23543 IDR'),\n",
       " ('6/15/2020', '14,021.62200 IDR'),\n",
       " ('6/16/2020', '14,046.73959 IDR'),\n",
       " ('6/17/2020', '14,120.02241 IDR'),\n",
       " ('6/18/2020', '14,095.36729 IDR'),\n",
       " ('6/19/2020', '14,077.63950 IDR'),\n",
       " ('6/21/2020', '14,068.55627 IDR'),\n",
       " ('6/22/2020', '14,136.05128 IDR'),\n",
       " ('6/23/2020', '14,148.27391 IDR'),\n",
       " ('6/24/2020', '14,143.17320 IDR'),\n",
       " ('6/25/2020', '14,130.57047 IDR'),\n",
       " ('6/26/2020', '14,190.21303 IDR'),\n",
       " ('6/28/2020', '14,185.08225 IDR'),\n",
       " ('6/29/2020', '14,183.53912 IDR'),\n",
       " ('6/30/2020', '14,296.90560 IDR'),\n",
       " ('7/1/2020', '14,256.13040 IDR'),\n",
       " ('7/2/2020', '14,378.36972 IDR'),\n",
       " ('7/3/2020', '14,488.65681 IDR'),\n",
       " ('7/5/2020', '14,498.63510 IDR'),\n",
       " ('7/6/2020', '14,289.25101 IDR'),\n",
       " ('7/7/2020', '14,445.31657 IDR'),\n",
       " ('7/8/2020', '14,378.37552 IDR'),\n",
       " ('7/9/2020', '14,343.31797 IDR'),\n",
       " ('7/10/2020', '14,365.25218 IDR'),\n",
       " ('7/12/2020', '14,420.01800 IDR'),\n",
       " ('7/13/2020', '14,390.84796 IDR'),\n",
       " ('7/14/2020', '14,417.89081 IDR'),\n",
       " ('7/15/2020', '14,589.26616 IDR'),\n",
       " ('7/16/2020', '14,564.60810 IDR'),\n",
       " ('7/17/2020', '14,690.05172 IDR'),\n",
       " ('7/20/2020', '14,773.77977 IDR'),\n",
       " ('7/21/2020', '14,679.86959 IDR'),\n",
       " ('7/22/2020', '14,651.65404 IDR'),\n",
       " ('7/23/2020', '14,605.50142 IDR'),\n",
       " ('7/24/2020', '14,568.35458 IDR'),\n",
       " ('7/26/2020', '14,578.95006 IDR'),\n",
       " ('7/27/2020', '14,505.01200 IDR'),\n",
       " ('7/28/2020', '14,572.13548 IDR'),\n",
       " ('7/29/2020', '14,500.86496 IDR'),\n",
       " ('7/30/2020', '14,552.65469 IDR'),\n",
       " ('7/31/2020', '14,640.92152 IDR'),\n",
       " ('8/2/2020', '14,636.91361 IDR'),\n",
       " ('8/3/2020', '14,578.90531 IDR'),\n",
       " ('8/4/2020', '14,535.77574 IDR'),\n",
       " ('8/5/2020', '14,510.27288 IDR'),\n",
       " ('8/6/2020', '14,572.05634 IDR'),\n",
       " ('8/7/2020', '14,606.06472 IDR'),\n",
       " ('8/9/2020', '14,668.96550 IDR'),\n",
       " ('8/10/2020', '14,635.89132 IDR'),\n",
       " ('8/11/2020', '14,683.96263 IDR'),\n",
       " ('8/12/2020', '14,746.93479 IDR'),\n",
       " ('8/13/2020', '14,730.67678 IDR'),\n",
       " ('8/14/2020', '14,755.08179 IDR'),\n",
       " ('8/16/2020', '14,752.59007 IDR'),\n",
       " ('8/17/2020', '14,745.02603 IDR'),\n",
       " ('8/18/2020', '14,840.94794 IDR'),\n",
       " ('8/19/2020', '14,892.13287 IDR'),\n",
       " ('8/20/2020', '14,744.53672 IDR'),\n",
       " ('8/21/2020', '14,779.64056 IDR'),\n",
       " ('8/23/2020', '14,777.76475 IDR'),\n",
       " ('8/24/2020', '14,723.44674 IDR'),\n",
       " ('8/25/2020', '14,634.54337 IDR'),\n",
       " ('8/26/2020', '14,650.54899 IDR'),\n",
       " ('8/27/2020', '14,641.58320 IDR'),\n",
       " ('8/28/2020', '14,624.63146 IDR'),\n",
       " ('8/30/2020', '14,620.74081 IDR'),\n",
       " ('8/31/2020', '14,538.95869 IDR'),\n",
       " ('9/1/2020', '14,657.30327 IDR'),\n",
       " ('9/2/2020', '14,752.83593 IDR'),\n",
       " ('9/3/2020', '14,725.75623 IDR'),\n",
       " ('9/4/2020', '14,755.44144 IDR'),\n",
       " ('9/6/2020', '14,754.95155 IDR'),\n",
       " ('9/7/2020', '14,743.92989 IDR'),\n",
       " ('9/8/2020', '14,839.54267 IDR'),\n",
       " ('9/9/2020', '14,783.50009 IDR'),\n",
       " ('9/10/2020', '14,871.58664 IDR'),\n",
       " ('9/11/2020', '14,865.27553 IDR'),\n",
       " ('9/13/2020', '14,876.45021 IDR'),\n",
       " ('9/14/2020', '14,864.65988 IDR'),\n",
       " ('9/15/2020', '14,843.44670 IDR'),\n",
       " ('9/16/2020', '14,807.88761 IDR'),\n",
       " ('9/17/2020', '14,829.41738 IDR'),\n",
       " ('9/18/2020', '14,730.71792 IDR'),\n",
       " ('9/20/2020', '14,728.84529 IDR'),\n",
       " ('9/21/2020', '14,701.43420 IDR'),\n",
       " ('9/22/2020', '14,751.85786 IDR'),\n",
       " ('9/23/2020', '14,825.54899 IDR'),\n",
       " ('9/24/2020', '14,888.78607 IDR'),\n",
       " ('9/25/2020', '14,855.63943 IDR'),\n",
       " ('9/27/2020', '14,859.98349 IDR'),\n",
       " ('9/28/2020', '14,892.32194 IDR'),\n",
       " ('9/29/2020', '14,880.93210 IDR'),\n",
       " ('9/30/2020', '14,867.44686 IDR'),\n",
       " ('10/1/2020', '14,822.66605 IDR'),\n",
       " ('10/2/2020', '14,852.30483 IDR'),\n",
       " ('10/5/2020', '14,797.90178 IDR'),\n",
       " ('10/6/2020', '14,857.67854 IDR'),\n",
       " ('10/7/2020', '14,705.58246 IDR'),\n",
       " ('10/8/2020', '14,692.93025 IDR'),\n",
       " ('10/9/2020', '14,679.27910 IDR'),\n",
       " ('10/12/2020', '14,677.85296 IDR'),\n",
       " ('10/13/2020', '14,687.35100 IDR'),\n",
       " ('10/14/2020', '14,696.21912 IDR'),\n",
       " ('10/15/2020', '14,667.95340 IDR'),\n",
       " ('10/16/2020', '14,688.43616 IDR'),\n",
       " ('10/19/2020', '14,705.13256 IDR'),\n",
       " ('10/20/2020', '14,555.88071 IDR'),\n",
       " ('10/21/2020', '14,641.61060 IDR'),\n",
       " ('10/22/2020', '14,647.90877 IDR'),\n",
       " ('10/23/2020', '14,655.04157 IDR'),\n",
       " ('10/26/2020', '14,652.88010 IDR'),\n",
       " ('10/27/2020', '14,649.78960 IDR'),\n",
       " ('10/28/2020', '14,701.92586 IDR'),\n",
       " ('10/29/2020', '14,701.62361 IDR'),\n",
       " ('10/30/2020', '14,629.16216 IDR'),\n",
       " ('11/2/2020', '14,612.89990 IDR'),\n",
       " ('11/3/2020', '14,589.01774 IDR'),\n",
       " ('11/4/2020', '14,544.44634 IDR'),\n",
       " ('11/5/2020', '14,389.14027 IDR'),\n",
       " ('11/6/2020', '14,214.49744 IDR'),\n",
       " ('11/9/2020', '14,283.29667 IDR'),\n",
       " ('11/10/2020', '14,053.76135 IDR'),\n",
       " ('11/11/2020', '14,073.46024 IDR'),\n",
       " ('11/12/2020', '14,141.24303 IDR'),\n",
       " ('11/13/2020', '14,142.77143 IDR'),\n",
       " ('11/16/2020', '14,085.69501 IDR'),\n",
       " ('11/17/2020', '14,040.16051 IDR'),\n",
       " ('11/18/2020', '14,051.29503 IDR'),\n",
       " ('11/19/2020', '14,165.50144 IDR'),\n",
       " ('11/20/2020', '14,162.60519 IDR'),\n",
       " ('11/23/2020', '14,185.57119 IDR'),\n",
       " ('11/24/2020', '14,137.48161 IDR'),\n",
       " ('11/25/2020', '14,136.09929 IDR'),\n",
       " ('11/26/2020', '14,090.70769 IDR')]"
      ]
     },
     "execution_count": 32,
     "metadata": {},
     "output_type": "execute_result"
    }
   ],
   "source": [
    "temp = temp [::-1]\n",
    "temp"
   ]
  },
  {
   "cell_type": "markdown",
   "metadata": {},
   "source": [
    "## Creating data frame & Data wrangling"
   ]
  },
  {
   "cell_type": "markdown",
   "metadata": {},
   "source": [
    "Put the array into dataframe"
   ]
  },
  {
   "cell_type": "code",
   "execution_count": 33,
   "metadata": {
    "ExecuteTime": {
     "end_time": "2020-01-13T05:12:41.517372Z",
     "start_time": "2020-01-13T05:12:29.130015Z"
    }
   },
   "outputs": [
    {
     "data": {
      "text/html": [
       "<div>\n",
       "<style scoped>\n",
       "    .dataframe tbody tr th:only-of-type {\n",
       "        vertical-align: middle;\n",
       "    }\n",
       "\n",
       "    .dataframe tbody tr th {\n",
       "        vertical-align: top;\n",
       "    }\n",
       "\n",
       "    .dataframe thead th {\n",
       "        text-align: right;\n",
       "    }\n",
       "</style>\n",
       "<table border=\"1\" class=\"dataframe\">\n",
       "  <thead>\n",
       "    <tr style=\"text-align: right;\">\n",
       "      <th></th>\n",
       "      <th>tgl</th>\n",
       "      <th>hargaharian</th>\n",
       "    </tr>\n",
       "  </thead>\n",
       "  <tbody>\n",
       "    <tr>\n",
       "      <th>0</th>\n",
       "      <td>5/31/2020</td>\n",
       "      <td>14,664.14584 IDR</td>\n",
       "    </tr>\n",
       "    <tr>\n",
       "      <th>1</th>\n",
       "      <td>6/1/2020</td>\n",
       "      <td>14,586.73900 IDR</td>\n",
       "    </tr>\n",
       "    <tr>\n",
       "      <th>2</th>\n",
       "      <td>6/2/2020</td>\n",
       "      <td>14,382.27395 IDR</td>\n",
       "    </tr>\n",
       "    <tr>\n",
       "      <th>3</th>\n",
       "      <td>6/3/2020</td>\n",
       "      <td>14,060.78946 IDR</td>\n",
       "    </tr>\n",
       "    <tr>\n",
       "      <th>4</th>\n",
       "      <td>6/4/2020</td>\n",
       "      <td>14,113.82802 IDR</td>\n",
       "    </tr>\n",
       "    <tr>\n",
       "      <th>5</th>\n",
       "      <td>6/5/2020</td>\n",
       "      <td>14,305.96407 IDR</td>\n",
       "    </tr>\n",
       "    <tr>\n",
       "      <th>6</th>\n",
       "      <td>6/7/2020</td>\n",
       "      <td>13,989.39489 IDR</td>\n",
       "    </tr>\n",
       "    <tr>\n",
       "      <th>7</th>\n",
       "      <td>6/8/2020</td>\n",
       "      <td>13,867.95377 IDR</td>\n",
       "    </tr>\n",
       "    <tr>\n",
       "      <th>8</th>\n",
       "      <td>6/9/2020</td>\n",
       "      <td>13,870.75718 IDR</td>\n",
       "    </tr>\n",
       "    <tr>\n",
       "      <th>9</th>\n",
       "      <td>6/10/2020</td>\n",
       "      <td>13,976.91611 IDR</td>\n",
       "    </tr>\n",
       "    <tr>\n",
       "      <th>10</th>\n",
       "      <td>6/11/2020</td>\n",
       "      <td>13,966.85142 IDR</td>\n",
       "    </tr>\n",
       "    <tr>\n",
       "      <th>11</th>\n",
       "      <td>6/12/2020</td>\n",
       "      <td>14,121.55442 IDR</td>\n",
       "    </tr>\n",
       "    <tr>\n",
       "      <th>12</th>\n",
       "      <td>6/14/2020</td>\n",
       "      <td>14,145.23543 IDR</td>\n",
       "    </tr>\n",
       "    <tr>\n",
       "      <th>13</th>\n",
       "      <td>6/15/2020</td>\n",
       "      <td>14,021.62200 IDR</td>\n",
       "    </tr>\n",
       "    <tr>\n",
       "      <th>14</th>\n",
       "      <td>6/16/2020</td>\n",
       "      <td>14,046.73959 IDR</td>\n",
       "    </tr>\n",
       "  </tbody>\n",
       "</table>\n",
       "</div>"
      ],
      "text/plain": [
       "          tgl       hargaharian\n",
       "0   5/31/2020  14,664.14584 IDR\n",
       "1    6/1/2020  14,586.73900 IDR\n",
       "2    6/2/2020  14,382.27395 IDR\n",
       "3    6/3/2020  14,060.78946 IDR\n",
       "4    6/4/2020  14,113.82802 IDR\n",
       "5    6/5/2020  14,305.96407 IDR\n",
       "6    6/7/2020  13,989.39489 IDR\n",
       "7    6/8/2020  13,867.95377 IDR\n",
       "8    6/9/2020  13,870.75718 IDR\n",
       "9   6/10/2020  13,976.91611 IDR\n",
       "10  6/11/2020  13,966.85142 IDR\n",
       "11  6/12/2020  14,121.55442 IDR\n",
       "12  6/14/2020  14,145.23543 IDR\n",
       "13  6/15/2020  14,021.62200 IDR\n",
       "14  6/16/2020  14,046.73959 IDR"
      ]
     },
     "execution_count": 33,
     "metadata": {},
     "output_type": "execute_result"
    }
   ],
   "source": [
    "import pandas as pd\n",
    "\n",
    "df = pd.DataFrame(temp, columns=('tgl', 'hargaharian'))\n",
    "df.head(15)"
   ]
  },
  {
   "cell_type": "markdown",
   "metadata": {},
   "source": [
    "Do the data cleaning here (please change this markdown with your explanation of what you do for data wrangling)"
   ]
  },
  {
   "cell_type": "code",
   "execution_count": 34,
   "metadata": {
    "ExecuteTime": {
     "end_time": "2020-01-13T05:12:59.165559Z",
     "start_time": "2020-01-13T05:12:58.910012Z"
    },
    "scrolled": false
   },
   "outputs": [
    {
     "data": {
      "text/plain": [
       "tgl            object\n",
       "hargaharian    object\n",
       "dtype: object"
      ]
     },
     "execution_count": 34,
     "metadata": {},
     "output_type": "execute_result"
    }
   ],
   "source": [
    "#cek tipe data\n",
    "df.dtypes"
   ]
  },
  {
   "cell_type": "code",
   "execution_count": 35,
   "metadata": {
    "scrolled": true
   },
   "outputs": [
    {
     "data": {
      "text/html": [
       "<div>\n",
       "<style scoped>\n",
       "    .dataframe tbody tr th:only-of-type {\n",
       "        vertical-align: middle;\n",
       "    }\n",
       "\n",
       "    .dataframe tbody tr th {\n",
       "        vertical-align: top;\n",
       "    }\n",
       "\n",
       "    .dataframe thead th {\n",
       "        text-align: right;\n",
       "    }\n",
       "</style>\n",
       "<table border=\"1\" class=\"dataframe\">\n",
       "  <thead>\n",
       "    <tr style=\"text-align: right;\">\n",
       "      <th></th>\n",
       "      <th>tgl</th>\n",
       "      <th>hargaharian</th>\n",
       "    </tr>\n",
       "  </thead>\n",
       "  <tbody>\n",
       "    <tr>\n",
       "      <th>0</th>\n",
       "      <td>5/31/2020</td>\n",
       "      <td>14,664.14584</td>\n",
       "    </tr>\n",
       "    <tr>\n",
       "      <th>1</th>\n",
       "      <td>6/1/2020</td>\n",
       "      <td>14,586.73900</td>\n",
       "    </tr>\n",
       "    <tr>\n",
       "      <th>2</th>\n",
       "      <td>6/2/2020</td>\n",
       "      <td>14,382.27395</td>\n",
       "    </tr>\n",
       "    <tr>\n",
       "      <th>3</th>\n",
       "      <td>6/3/2020</td>\n",
       "      <td>14,060.78946</td>\n",
       "    </tr>\n",
       "    <tr>\n",
       "      <th>4</th>\n",
       "      <td>6/4/2020</td>\n",
       "      <td>14,113.82802</td>\n",
       "    </tr>\n",
       "  </tbody>\n",
       "</table>\n",
       "</div>"
      ],
      "text/plain": [
       "         tgl    hargaharian\n",
       "0  5/31/2020  14,664.14584 \n",
       "1   6/1/2020  14,586.73900 \n",
       "2   6/2/2020  14,382.27395 \n",
       "3   6/3/2020  14,060.78946 \n",
       "4   6/4/2020  14,113.82802 "
      ]
     },
     "execution_count": 35,
     "metadata": {},
     "output_type": "execute_result"
    }
   ],
   "source": [
    "#hilangkan satuan IDR\n",
    "df['hargaharian'] = df['hargaharian'].str.replace(\"IDR\",\"\")\n",
    "df.head()"
   ]
  },
  {
   "cell_type": "code",
   "execution_count": 36,
   "metadata": {},
   "outputs": [
    {
     "data": {
      "text/html": [
       "<div>\n",
       "<style scoped>\n",
       "    .dataframe tbody tr th:only-of-type {\n",
       "        vertical-align: middle;\n",
       "    }\n",
       "\n",
       "    .dataframe tbody tr th {\n",
       "        vertical-align: top;\n",
       "    }\n",
       "\n",
       "    .dataframe thead th {\n",
       "        text-align: right;\n",
       "    }\n",
       "</style>\n",
       "<table border=\"1\" class=\"dataframe\">\n",
       "  <thead>\n",
       "    <tr style=\"text-align: right;\">\n",
       "      <th></th>\n",
       "      <th>tgl</th>\n",
       "      <th>hargaharian</th>\n",
       "    </tr>\n",
       "  </thead>\n",
       "  <tbody>\n",
       "    <tr>\n",
       "      <th>0</th>\n",
       "      <td>5/31/2020</td>\n",
       "      <td>14664.14584</td>\n",
       "    </tr>\n",
       "    <tr>\n",
       "      <th>1</th>\n",
       "      <td>6/1/2020</td>\n",
       "      <td>14586.73900</td>\n",
       "    </tr>\n",
       "    <tr>\n",
       "      <th>2</th>\n",
       "      <td>6/2/2020</td>\n",
       "      <td>14382.27395</td>\n",
       "    </tr>\n",
       "    <tr>\n",
       "      <th>3</th>\n",
       "      <td>6/3/2020</td>\n",
       "      <td>14060.78946</td>\n",
       "    </tr>\n",
       "    <tr>\n",
       "      <th>4</th>\n",
       "      <td>6/4/2020</td>\n",
       "      <td>14113.82802</td>\n",
       "    </tr>\n",
       "  </tbody>\n",
       "</table>\n",
       "</div>"
      ],
      "text/plain": [
       "         tgl  hargaharian\n",
       "0  5/31/2020  14664.14584\n",
       "1   6/1/2020  14586.73900\n",
       "2   6/2/2020  14382.27395\n",
       "3   6/3/2020  14060.78946\n",
       "4   6/4/2020  14113.82802"
      ]
     },
     "execution_count": 36,
     "metadata": {},
     "output_type": "execute_result"
    }
   ],
   "source": [
    "#hilangkan koma di 'harga harian' lalu ubah tipe data hargaharian menjadi tipe float64\n",
    "df['hargaharian'] = df['hargaharian'].str.replace(\",\",\"\").astype('float64')\n",
    "df.head()\n"
   ]
  },
  {
   "cell_type": "code",
   "execution_count": 37,
   "metadata": {
    "scrolled": true
   },
   "outputs": [
    {
     "data": {
      "text/plain": [
       "tgl             object\n",
       "hargaharian    float64\n",
       "dtype: object"
      ]
     },
     "execution_count": 37,
     "metadata": {},
     "output_type": "execute_result"
    }
   ],
   "source": [
    "#cek tipe data kembali\n",
    "df.dtypes"
   ]
  },
  {
   "cell_type": "code",
   "execution_count": 38,
   "metadata": {},
   "outputs": [],
   "source": [
    "#ubah tipe data 'tgl'\n",
    "df['tgl'] = df['tgl'].astype('datetime64')"
   ]
  },
  {
   "cell_type": "code",
   "execution_count": 39,
   "metadata": {},
   "outputs": [
    {
     "data": {
      "text/plain": [
       "tgl            datetime64[ns]\n",
       "hargaharian           float64\n",
       "dtype: object"
      ]
     },
     "execution_count": 39,
     "metadata": {},
     "output_type": "execute_result"
    }
   ],
   "source": [
    "df.dtypes\n"
   ]
  },
  {
   "cell_type": "code",
   "execution_count": 40,
   "metadata": {
    "scrolled": true
   },
   "outputs": [
    {
     "data": {
      "text/html": [
       "<div>\n",
       "<style scoped>\n",
       "    .dataframe tbody tr th:only-of-type {\n",
       "        vertical-align: middle;\n",
       "    }\n",
       "\n",
       "    .dataframe tbody tr th {\n",
       "        vertical-align: top;\n",
       "    }\n",
       "\n",
       "    .dataframe thead th {\n",
       "        text-align: right;\n",
       "    }\n",
       "</style>\n",
       "<table border=\"1\" class=\"dataframe\">\n",
       "  <thead>\n",
       "    <tr style=\"text-align: right;\">\n",
       "      <th></th>\n",
       "      <th>tgl</th>\n",
       "      <th>hargaharian</th>\n",
       "    </tr>\n",
       "  </thead>\n",
       "  <tbody>\n",
       "    <tr>\n",
       "      <th>0</th>\n",
       "      <td>2020-05-31</td>\n",
       "      <td>14664.14584</td>\n",
       "    </tr>\n",
       "    <tr>\n",
       "      <th>1</th>\n",
       "      <td>2020-06-01</td>\n",
       "      <td>14586.73900</td>\n",
       "    </tr>\n",
       "    <tr>\n",
       "      <th>2</th>\n",
       "      <td>2020-06-02</td>\n",
       "      <td>14382.27395</td>\n",
       "    </tr>\n",
       "    <tr>\n",
       "      <th>3</th>\n",
       "      <td>2020-06-03</td>\n",
       "      <td>14060.78946</td>\n",
       "    </tr>\n",
       "    <tr>\n",
       "      <th>4</th>\n",
       "      <td>2020-06-04</td>\n",
       "      <td>14113.82802</td>\n",
       "    </tr>\n",
       "    <tr>\n",
       "      <th>5</th>\n",
       "      <td>2020-06-05</td>\n",
       "      <td>14305.96407</td>\n",
       "    </tr>\n",
       "    <tr>\n",
       "      <th>6</th>\n",
       "      <td>2020-06-07</td>\n",
       "      <td>13989.39489</td>\n",
       "    </tr>\n",
       "    <tr>\n",
       "      <th>7</th>\n",
       "      <td>2020-06-08</td>\n",
       "      <td>13867.95377</td>\n",
       "    </tr>\n",
       "    <tr>\n",
       "      <th>8</th>\n",
       "      <td>2020-06-09</td>\n",
       "      <td>13870.75718</td>\n",
       "    </tr>\n",
       "    <tr>\n",
       "      <th>9</th>\n",
       "      <td>2020-06-10</td>\n",
       "      <td>13976.91611</td>\n",
       "    </tr>\n",
       "    <tr>\n",
       "      <th>10</th>\n",
       "      <td>2020-06-11</td>\n",
       "      <td>13966.85142</td>\n",
       "    </tr>\n",
       "    <tr>\n",
       "      <th>11</th>\n",
       "      <td>2020-06-12</td>\n",
       "      <td>14121.55442</td>\n",
       "    </tr>\n",
       "    <tr>\n",
       "      <th>12</th>\n",
       "      <td>2020-06-14</td>\n",
       "      <td>14145.23543</td>\n",
       "    </tr>\n",
       "    <tr>\n",
       "      <th>13</th>\n",
       "      <td>2020-06-15</td>\n",
       "      <td>14021.62200</td>\n",
       "    </tr>\n",
       "    <tr>\n",
       "      <th>14</th>\n",
       "      <td>2020-06-16</td>\n",
       "      <td>14046.73959</td>\n",
       "    </tr>\n",
       "    <tr>\n",
       "      <th>15</th>\n",
       "      <td>2020-06-17</td>\n",
       "      <td>14120.02241</td>\n",
       "    </tr>\n",
       "    <tr>\n",
       "      <th>16</th>\n",
       "      <td>2020-06-18</td>\n",
       "      <td>14095.36729</td>\n",
       "    </tr>\n",
       "    <tr>\n",
       "      <th>17</th>\n",
       "      <td>2020-06-19</td>\n",
       "      <td>14077.63950</td>\n",
       "    </tr>\n",
       "    <tr>\n",
       "      <th>18</th>\n",
       "      <td>2020-06-21</td>\n",
       "      <td>14068.55627</td>\n",
       "    </tr>\n",
       "    <tr>\n",
       "      <th>19</th>\n",
       "      <td>2020-06-22</td>\n",
       "      <td>14136.05128</td>\n",
       "    </tr>\n",
       "  </tbody>\n",
       "</table>\n",
       "</div>"
      ],
      "text/plain": [
       "          tgl  hargaharian\n",
       "0  2020-05-31  14664.14584\n",
       "1  2020-06-01  14586.73900\n",
       "2  2020-06-02  14382.27395\n",
       "3  2020-06-03  14060.78946\n",
       "4  2020-06-04  14113.82802\n",
       "5  2020-06-05  14305.96407\n",
       "6  2020-06-07  13989.39489\n",
       "7  2020-06-08  13867.95377\n",
       "8  2020-06-09  13870.75718\n",
       "9  2020-06-10  13976.91611\n",
       "10 2020-06-11  13966.85142\n",
       "11 2020-06-12  14121.55442\n",
       "12 2020-06-14  14145.23543\n",
       "13 2020-06-15  14021.62200\n",
       "14 2020-06-16  14046.73959\n",
       "15 2020-06-17  14120.02241\n",
       "16 2020-06-18  14095.36729\n",
       "17 2020-06-19  14077.63950\n",
       "18 2020-06-21  14068.55627\n",
       "19 2020-06-22  14136.05128"
      ]
     },
     "execution_count": 40,
     "metadata": {},
     "output_type": "execute_result"
    }
   ],
   "source": [
    "df.head(20)"
   ]
  },
  {
   "cell_type": "code",
   "execution_count": 41,
   "metadata": {},
   "outputs": [
    {
     "data": {
      "text/plain": [
       "<AxesSubplot:>"
      ]
     },
     "execution_count": 41,
     "metadata": {},
     "output_type": "execute_result"
    },
    {
     "data": {
      "image/png": "[encoded data removed]",
      "text/plain": [
       "<Figure size 432x288 with 1 Axes>"
      ]
     },
     "metadata": {
      "needs_background": "light"
     },
     "output_type": "display_data"
    }
   ],
   "source": [
    "df.plot()"
   ]
  },
  {
   "cell_type": "code",
   "execution_count": 42,
   "metadata": {
    "scrolled": true
   },
   "outputs": [
    {
     "data": {
      "text/plain": [
       "<AxesSubplot:title={'center':'Nilai Tukar USD/IDR'}, xlabel='tgl'>"
      ]
     },
     "execution_count": 42,
     "metadata": {},
     "output_type": "execute_result"
    },
    {
     "data": {
      "image/png": "[encoded data removed]",
      "text/plain": [
       "<Figure size 432x288 with 1 Axes>"
      ]
     },
     "metadata": {
      "needs_background": "light"
     },
     "output_type": "display_data"
    }
   ],
   "source": [
    "df.set_index('tgl').plot(title='Nilai Tukar USD/IDR')"
   ]
  },
  {
   "cell_type": "code",
   "execution_count": 43,
   "metadata": {},
   "outputs": [
    {
     "data": {
      "text/plain": [
       "14892.32194"
      ]
     },
     "execution_count": 43,
     "metadata": {},
     "output_type": "execute_result"
    }
   ],
   "source": [
    "df['hargaharian'].max()"
   ]
  },
  {
   "cell_type": "code",
   "execution_count": 44,
   "metadata": {
    "scrolled": true
   },
   "outputs": [
    {
     "data": {
      "text/plain": [
       "tgl            2020-11-26 00:00:00\n",
       "hargaharian                14892.3\n",
       "dtype: object"
      ]
     },
     "execution_count": 44,
     "metadata": {},
     "output_type": "execute_result"
    }
   ],
   "source": [
    "df.max()"
   ]
  },
  {
   "cell_type": "code",
   "execution_count": 22,
   "metadata": {},
   "outputs": [
    {
     "data": {
      "text/html": [
       "<div>\n",
       "<style scoped>\n",
       "    .dataframe tbody tr th:only-of-type {\n",
       "        vertical-align: middle;\n",
       "    }\n",
       "\n",
       "    .dataframe tbody tr th {\n",
       "        vertical-align: top;\n",
       "    }\n",
       "\n",
       "    .dataframe thead th {\n",
       "        text-align: right;\n",
       "    }\n",
       "</style>\n",
       "<table border=\"1\" class=\"dataframe\">\n",
       "  <thead>\n",
       "    <tr style=\"text-align: right;\">\n",
       "      <th></th>\n",
       "      <th>hargaharian</th>\n",
       "    </tr>\n",
       "  </thead>\n",
       "  <tbody>\n",
       "    <tr>\n",
       "      <th>count</th>\n",
       "      <td>146.000000</td>\n",
       "    </tr>\n",
       "    <tr>\n",
       "      <th>mean</th>\n",
       "      <td>14514.333568</td>\n",
       "    </tr>\n",
       "    <tr>\n",
       "      <th>std</th>\n",
       "      <td>280.428023</td>\n",
       "    </tr>\n",
       "    <tr>\n",
       "      <th>min</th>\n",
       "      <td>13867.953770</td>\n",
       "    </tr>\n",
       "    <tr>\n",
       "      <th>25%</th>\n",
       "      <td>14262.921967</td>\n",
       "    </tr>\n",
       "    <tr>\n",
       "      <th>50%</th>\n",
       "      <td>14616.820355</td>\n",
       "    </tr>\n",
       "    <tr>\n",
       "      <th>75%</th>\n",
       "      <td>14730.218907</td>\n",
       "    </tr>\n",
       "    <tr>\n",
       "      <th>max</th>\n",
       "      <td>14892.321940</td>\n",
       "    </tr>\n",
       "  </tbody>\n",
       "</table>\n",
       "</div>"
      ],
      "text/plain": [
       "        hargaharian\n",
       "count    146.000000\n",
       "mean   14514.333568\n",
       "std      280.428023\n",
       "min    13867.953770\n",
       "25%    14262.921967\n",
       "50%    14616.820355\n",
       "75%    14730.218907\n",
       "max    14892.321940"
      ]
     },
     "execution_count": 22,
     "metadata": {},
     "output_type": "execute_result"
    }
   ],
   "source": [
    "df.describe()"
   ]
  },
  {
   "cell_type": "code",
   "execution_count": 23,
   "metadata": {},
   "outputs": [
    {
     "name": "stdout",
     "output_type": "stream",
     "text": [
      "<class 'pandas.core.frame.DataFrame'>\n",
      "RangeIndex: 146 entries, 0 to 145\n",
      "Data columns (total 2 columns):\n",
      " #   Column       Non-Null Count  Dtype         \n",
      "---  ------       --------------  -----         \n",
      " 0   tgl          146 non-null    datetime64[ns]\n",
      " 1   hargaharian  146 non-null    float64       \n",
      "dtypes: datetime64[ns](1), float64(1)\n",
      "memory usage: 2.4 KB\n"
     ]
    }
   ],
   "source": [
    "df.info()"
   ]
  },
  {
   "cell_type": "markdown",
   "metadata": {},
   "source": [
    "### Analisis Data\n",
    "\n",
    "Nilai tukar Rupiah terhadap dollar Amerika Serikat (USD) mengalami fluktuasi cukup tajam dalam enam (6) bulan terakhir. Sejak akhir Mei 2020, Rupiah bergerak di kisaran Rp 14.600 per dollar AS. Menjelang awal Juni 2020, Rupiah menguat di kisaran Rp 14.200 per dollar AS. Di bulan-bulan berikutnya nilai tukar Rupiah terhadap USD mulai mengalami pelemahan menembus level Rp 14.892 per dollar AS pada bulan November 2020. Dilansir dari situs berita Antara (18/11), Kepala Riset dan Edukasi Monex Investindo  menyebutkan bahwa kondisi demikian terjadi karena ada sentimen positif dan negatif di pasar keuangan. Sentimen positif karena progress pengembangan vaksin Covid-19, sementara sentimen negatif kekhawatiran pasar seiring dengan peningkatan kasus Covid-19 akan memicu pelambatan pertumbuhan ekonomi nasional. \n",
    "\n",
    "sumber : https://www.liputan6.com/bisnis/read/4411317/rupiah-melemah-di-tengah-beragam-sentimen-global-dan-internal, retrieved 29 Nov 2020\n"
   ]
  },
  {
   "cell_type": "markdown",
   "metadata": {},
   "source": [
    "### Implementing your webscrapping to the flask dashboard\n",
    "\n",
    "- Copy paste all of your web scrapping process to the desired position on the `app.py`\n",
    "- Changing the title of the dasboard at `index.html`"
   ]
  },
  {
   "cell_type": "markdown",
   "metadata": {},
   "source": [
    "## Finishing This Notebook with Your Analysis and Conclusion\n",
    "\n",
    "First you can do start with making the data visualisation. "
   ]
  },
  {
   "cell_type": "code",
   "execution_count": 92,
   "metadata": {
    "ExecuteTime": {
     "end_time": "2020-01-13T05:20:56.208237Z",
     "start_time": "2020-01-13T05:20:56.076043Z"
    }
   },
   "outputs": [
    {
     "data": {
      "text/plain": [
       "<AxesSubplot:title={'center':'Nilai Tukar USD/IDR'}, xlabel='tgl'>"
      ]
     },
     "execution_count": 92,
     "metadata": {},
     "output_type": "execute_result"
    },
    {
     "data": {
      "image/png": "[encoded data removed]",
      "text/plain": [
       "<Figure size 432x288 with 1 Axes>"
      ]
     },
     "metadata": {
      "needs_background": "light"
     },
     "output_type": "display_data"
    }
   ],
   "source": [
    "df.set_index('tgl').plot(title='Nilai Tukar USD/IDR')"
   ]
  },
  {
   "cell_type": "markdown",
   "metadata": {},
   "source": [
    "\n",
    "(Put your analysis and conclusion here.)"
   ]
  },
  {
   "cell_type": "markdown",
   "metadata": {},
   "source": [
    "### Analisis Data\n",
    "\n",
    "Nilai tukar Rupiah terhadap dollar Amerika Serikat (USD) mengalami fluktuasi cukup tajam dalam enam (6) bulan terakhir. Sejak akhir Mei 2020, Rupiah bergerak di kisaran Rp 14.600 per dollar AS. Menjelang awal Juni 2020, Rupiah menguat di kisaran Rp 14.200 per dollar AS. Di bulan-bulan berikutnya nilai tukar Rupiah terhadap USD mulai mengalami pelemahan menembus level Rp 14.892 per dollar AS pada bulan November 2020. Dilansir dari situs berita Antara (18/11), Kepala Riset dan Edukasi Monex Investindo  menyebutkan bahwa kondisi demikian terjadi karena ada sentimen positif dan negatif di pasar keuangan. Sentimen positif karenaadanya harapan dari progress pengembangan vaksin Covid-19, sementara sentimen negatif kekhawatiran pasar seiring dengan peningkatan kasus Covid-19 akan memicu pelambatan pertumbuhan ekonomi nasional. \n",
    "\n",
    "sumber : https://www.liputan6.com/bisnis/read/4411317/rupiah-melemah-di-tengah-beragam-sentimen-global-dan-internal, retrieved 29 Nov 2020\n"
   ]
  },
  {
   "cell_type": "markdown",
   "metadata": {},
   "source": [
    "### Extra Challange\n",
    "\n",
    "This will be not included to the scoring. \n",
    "\n",
    "- You can create additional analysis from the data.\n",
    "- Implement it to the dashboard with at `app.py` dan `index.html`."
   ]
  },
  {
   "cell_type": "code",
   "execution_count": null,
   "metadata": {},
   "outputs": [],
   "source": []
  },
  {
   "cell_type": "code",
   "execution_count": null,
   "metadata": {},
   "outputs": [],
   "source": []
  },
  {
   "cell_type": "code",
   "execution_count": null,
   "metadata": {},
   "outputs": [],
   "source": []
  }
 ],
 "metadata": {
  "kernelspec": {
   "display_name": "venv1",
   "language": "python",
   "name": "venv1"
  },
  "language_info": {
   "codemirror_mode": {
    "name": "ipython",
    "version": 3
   },
   "file_extension": ".py",
   "mimetype": "text/x-python",
   "name": "python",
   "nbconvert_exporter": "python",
   "pygments_lexer": "ipython3",
   "version": "3.8.5"
  }
 },
 "nbformat": 4,
 "nbformat_minor": 2
}
